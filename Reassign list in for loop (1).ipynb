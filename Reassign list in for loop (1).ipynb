{
 "cells": [
  {
   "cell_type": "markdown",
   "metadata": {},
   "source": [
    "Example: Use list item without modifying list items:"
   ]
  },
  {
   "cell_type": "code",
   "execution_count": 9,
   "metadata": {},
   "outputs": [
    {
     "name": "stdout",
     "output_type": "stream",
     "text": [
      "47\n",
      "72\n",
      "98\n",
      "99\n",
      "100\n",
      "[40, 65, 91, 92, 93]\n"
     ]
    }
   ],
   "source": [
    "test_scores = [40, 65, 91, 92, 93]\n",
    "\n",
    "for score in test_scores:\n",
    "    score = score + 7 #Doesn´t modify any item in the list \"test_scores\"\n",
    "    print(score)\n",
    "\n",
    "print(test_scores)"
   ]
  },
  {
   "cell_type": "markdown",
   "metadata": {},
   "source": [
    "Example: The relationship between list item and for-in loop item"
   ]
  },
  {
   "cell_type": "code",
   "execution_count": 14,
   "metadata": {},
   "outputs": [
    {
     "name": "stdout",
     "output_type": "stream",
     "text": [
      "True\n",
      "True\n",
      "True\n",
      "True\n",
      "True\n",
      "False\n",
      "False\n",
      "False\n",
      "False\n",
      "False\n"
     ]
    }
   ],
   "source": [
    "test_scores = [40, 65, 91, 92, 93]\n",
    "\n",
    "for index, item in enumerate(test_scores):\n",
    "    if test_scores[index] is item:\n",
    "       print(\"True\")\n",
    "    else:\n",
    "        print(\"False\")\n",
    "        \n",
    "\n",
    "for index, item in enumerate(test_scores):\n",
    "    item += 1\n",
    "    if test_scores[index] is item:\n",
    "       print(\"True\")\n",
    "    else:\n",
    "        print(\"False\")"
   ]
  },
  {
   "cell_type": "markdown",
   "metadata": {},
   "source": [
    "Examle: Modify all list items by range()"
   ]
  },
  {
   "cell_type": "code",
   "execution_count": 11,
   "metadata": {},
   "outputs": [
    {
     "name": "stdout",
     "output_type": "stream",
     "text": [
      "[47, 72, 98, 99, 100]\n"
     ]
    }
   ],
   "source": [
    "test_scores = [40, 65, 91, 92, 93]\n",
    "for index in range(len(test_scores)):\n",
    "    test_scores[index] += 7\n",
    "\n",
    "print(test_scores)"
   ]
  },
  {
   "cell_type": "markdown",
   "metadata": {},
   "source": [
    "Examle: Modify part of the list items by range()"
   ]
  },
  {
   "cell_type": "code",
   "execution_count": 24,
   "metadata": {},
   "outputs": [
    {
     "name": "stdout",
     "output_type": "stream",
     "text": [
      "[40, 65, 98, 99, 100]\n"
     ]
    }
   ],
   "source": [
    "test_scores = [40, 65, 91, 92, 93]\n",
    "for index in range(2, len(test_scores)):\n",
    "    test_scores[index] += 7\n",
    "\n",
    "print(test_scores)"
   ]
  },
  {
   "cell_type": "markdown",
   "metadata": {},
   "source": [
    "Example: Modify all list items by enumerate()"
   ]
  },
  {
   "cell_type": "code",
   "execution_count": 12,
   "metadata": {},
   "outputs": [
    {
     "name": "stdout",
     "output_type": "stream",
     "text": [
      "140\n",
      "165\n",
      "191\n",
      "192\n",
      "193\n",
      "[47, 72, 98, 99, 100]\n"
     ]
    }
   ],
   "source": [
    "test_scores = [40, 65, 91, 92, 93]\n",
    "\n",
    "for index, score in enumerate(test_scores):\n",
    "    test_scores[index] += 7 #modify each items of test_scores by adding 7\n",
    "    score +=100             #doesn´t modify test_scores items, but gives an opportunity to use value of each test_scores´item\n",
    "    print(score)\n",
    "    \n",
    "print(test_scores)\n",
    "    "
   ]
  },
  {
   "cell_type": "markdown",
   "metadata": {},
   "source": [
    "Example: Modify all list items by enumerate()"
   ]
  },
  {
   "cell_type": "code",
   "execution_count": 16,
   "metadata": {},
   "outputs": [
    {
     "name": "stdout",
     "output_type": "stream",
     "text": [
      "140\n",
      "165\n",
      "191\n",
      "192\n",
      "193\n",
      "[47, 72, 98, 99, 100]\n"
     ]
    }
   ],
   "source": [
    "test_scores = [40, 65, 91, 92, 93]\n",
    "\n",
    "for index, score in enumerate(test_scores):\n",
    "    test_scores[index] = score + 7\n",
    "    score +=100\n",
    "    print(score)\n",
    "    \n",
    "print(test_scores)"
   ]
  },
  {
   "cell_type": "markdown",
   "metadata": {},
   "source": [
    "Example: Modify all list items"
   ]
  },
  {
   "cell_type": "code",
   "execution_count": 19,
   "metadata": {},
   "outputs": [
    {
     "name": "stdout",
     "output_type": "stream",
     "text": [
      "94\n",
      "[47, 72, 98, 99, 100]\n"
     ]
    }
   ],
   "source": [
    "test_scores = [40, 65, 91, 92, 93]\n",
    "\n",
    "test_scores = [item+7 for item in test_scores]\n",
    "print(test_scores)"
   ]
  },
  {
   "cell_type": "code",
   "execution_count": null,
   "metadata": {},
   "outputs": [],
   "source": []
  }
 ],
 "metadata": {
  "kernelspec": {
   "display_name": "Python 3",
   "language": "python",
   "name": "python3"
  },
  "language_info": {
   "codemirror_mode": {
    "name": "ipython",
    "version": 3
   },
   "file_extension": ".py",
   "mimetype": "text/x-python",
   "name": "python",
   "nbconvert_exporter": "python",
   "pygments_lexer": "ipython3",
   "version": "3.7.6"
  }
 },
 "nbformat": 4,
 "nbformat_minor": 4
}
